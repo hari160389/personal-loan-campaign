{
  "cells": [
    {
      "cell_type": "markdown",
      "metadata": {
        "id": "dHp26RRERvXx"
      },
      "source": [
        "## Problem Statement"
      ]
    },
    {
      "cell_type": "markdown",
      "metadata": {
        "id": "m5MpauhvxIh6"
      },
      "source": [
        "### Context\n",
        "\n",
        "AllLife Bank is a US bank that has a growing customer base. The majority of these customers are liability customers (depositors) with varying sizes of deposits. The number of customers who are also borrowers (asset customers) is quite small, and the bank is interested in expanding this base rapidly to bring in more loan business and in the process, earn more through the interest on loans. In particular, the management wants to explore ways of converting its liability customers to personal loan customers (while retaining them as depositors).\n",
        "\n",
        "A campaign that the bank ran last year for liability customers showed a healthy conversion rate of over 9% success. This has encouraged the retail marketing department to devise campaigns with better target marketing to increase the success ratio.\n",
        "\n",
        "You as a Data scientist at AllLife bank have to build a model that will help the marketing department to identify the potential customers who have a higher probability of purchasing the loan."
      ]
    },
    {
      "cell_type": "markdown",
      "metadata": {
        "id": "s4T59mPjxMmc"
      },
      "source": [
        "### Objective\n",
        "\n",
        "To predict whether a liability customer will buy personal loans, to understand which customer attributes are most significant in driving purchases, and identify which segment of customers to target more."
      ]
    },
    {
      "cell_type": "markdown",
      "metadata": {
        "id": "FN8fKs4_xPLS"
      },
      "source": [
        "### Data Dictionary\n",
        "* `ID`: Customer ID\n",
        "* `Age`: Customer’s age in completed years\n",
        "* `Experience`: #years of professional experience\n",
        "* `Income`: Annual income of the customer (in thousand dollars)\n",
        "* `ZIP Code`: Home Address ZIP code.\n",
        "* `Family`: the Family size of the customer\n",
        "* `CCAvg`: Average spending on credit cards per month (in thousand dollars)\n",
        "* `Education`: Education Level. 1: Undergrad; 2: Graduate;3: Advanced/Professional\n",
        "* `Mortgage`: Value of house mortgage if any. (in thousand dollars)\n",
        "* `Personal_Loan`: Did this customer accept the personal loan offered in the last campaign? (0: No, 1: Yes)\n",
        "* `Securities_Account`: Does the customer have securities account with the bank? (0: No, 1: Yes)\n",
        "* `CD_Account`: Does the customer have a certificate of deposit (CD) account with the bank? (0: No, 1: Yes)\n",
        "* `Online`: Do customers use internet banking facilities? (0: No, 1: Yes)\n",
        "* `CreditCard`: Does the customer use a credit card issued by any other Bank (excluding All life Bank)? (0: No, 1: Yes)"
      ]
    },
    {
      "cell_type": "markdown",
      "metadata": {
        "id": "CP-77n_lxyBt"
      },
      "source": [
        "## Importing necessary libraries"
      ]
    },
    {
      "cell_type": "code",
      "source": [
        "# Installing the libraries with the specified version.\n",
        "!pip install numpy==1.25.2 pandas==1.5.3 matplotlib==3.7.1 seaborn==0.13.1 scikit-learn==1.2.2 sklearn-pandas==2.2.0 -q --user"
      ],
      "metadata": {
        "id": "ryFwv2fwXqBw",
        "colab": {
          "base_uri": "https://localhost:8080/"
        },
        "outputId": "aa7e1b5a-9498-4df9-d49d-c5d9e5d8ed56"
      },
      "execution_count": 3,
      "outputs": [
        {
          "output_type": "stream",
          "name": "stdout",
          "text": [
            "\u001b[2K   \u001b[90m━━━━━━━━━━━━━━━━━━━━━━━━━━━━━━━━━━━━━━━━\u001b[0m \u001b[32m18.2/18.2 MB\u001b[0m \u001b[31m80.5 MB/s\u001b[0m eta \u001b[36m0:00:00\u001b[0m\n",
            "\u001b[2K   \u001b[90m━━━━━━━━━━━━━━━━━━━━━━━━━━━━━━━━━━━━━━━━\u001b[0m \u001b[32m12.0/12.0 MB\u001b[0m \u001b[31m111.4 MB/s\u001b[0m eta \u001b[36m0:00:00\u001b[0m\n",
            "\u001b[2K   \u001b[90m━━━━━━━━━━━━━━━━━━━━━━━━━━━━━━━━━━━━━━━━\u001b[0m \u001b[32m11.6/11.6 MB\u001b[0m \u001b[31m104.8 MB/s\u001b[0m eta \u001b[36m0:00:00\u001b[0m\n",
            "\u001b[2K   \u001b[90m━━━━━━━━━━━━━━━━━━━━━━━━━━━━━━━━━━━━━━━━\u001b[0m \u001b[32m294.8/294.8 kB\u001b[0m \u001b[31m23.6 MB/s\u001b[0m eta \u001b[36m0:00:00\u001b[0m\n",
            "\u001b[2K   \u001b[90m━━━━━━━━━━━━━━━━━━━━━━━━━━━━━━━━━━━━━━━━\u001b[0m \u001b[32m9.6/9.6 MB\u001b[0m \u001b[31m112.2 MB/s\u001b[0m eta \u001b[36m0:00:00\u001b[0m\n",
            "\u001b[?25h\u001b[33m  WARNING: The scripts f2py, f2py3 and f2py3.11 are installed in '/root/.local/bin' which is not on PATH.\n",
            "  Consider adding this directory to PATH or, if you prefer to suppress this warning, use --no-warn-script-location.\u001b[0m\u001b[33m\n",
            "\u001b[0m\u001b[31mERROR: pip's dependency resolver does not currently take into account all the packages that are installed. This behaviour is the source of the following dependency conflicts.\n",
            "google-colab 1.0.0 requires pandas==2.2.2, but you have pandas 1.5.3 which is incompatible.\n",
            "plotnine 0.14.5 requires matplotlib>=3.8.0, but you have matplotlib 3.7.1 which is incompatible.\n",
            "plotnine 0.14.5 requires pandas>=2.2.0, but you have pandas 1.5.3 which is incompatible.\n",
            "cudf-cu12 25.2.1 requires pandas<2.2.4dev0,>=2.0, but you have pandas 1.5.3 which is incompatible.\n",
            "imbalanced-learn 0.13.0 requires scikit-learn<2,>=1.3.2, but you have scikit-learn 1.2.2 which is incompatible.\n",
            "tensorflow 2.18.0 requires numpy<2.1.0,>=1.26.0, but you have numpy 1.25.2 which is incompatible.\n",
            "mizani 0.13.3 requires pandas>=2.2.0, but you have pandas 1.5.3 which is incompatible.\n",
            "dask-cudf-cu12 25.2.2 requires pandas<2.2.4dev0,>=2.0, but you have pandas 1.5.3 which is incompatible.\n",
            "blosc2 3.3.1 requires numpy>=1.26, but you have numpy 1.25.2 which is incompatible.\n",
            "dask-expr 1.1.21 requires pandas>=2, but you have pandas 1.5.3 which is incompatible.\n",
            "mlxtend 0.23.4 requires scikit-learn>=1.3.1, but you have scikit-learn 1.2.2 which is incompatible.\n",
            "thinc 8.3.6 requires numpy<3.0.0,>=2.0.0, but you have numpy 1.25.2 which is incompatible.\n",
            "xarray 2025.3.1 requires pandas>=2.1, but you have pandas 1.5.3 which is incompatible.\u001b[0m\u001b[31m\n",
            "\u001b[0m"
          ]
        }
      ]
    },
    {
      "cell_type": "markdown",
      "source": [
        "**Note**:\n",
        "\n",
        "1. After running the above cell, kindly restart the notebook kernel (for Jupyter Notebook) or runtime (for Google Colab), write the relevant code for the project from the next cell, and run all cells sequentially from the next cell.\n",
        "\n",
        "2. On executing the above line of code, you might see a warning regarding package dependencies. This error message can be ignored as the above code ensures that all necessary libraries and their dependencies are maintained to successfully execute the code in this notebook."
      ],
      "metadata": {
        "id": "Id5iPySmwVCi"
      }
    },
    {
      "cell_type": "code",
      "execution_count": 23,
      "metadata": {
        "id": "O36RnISpw679",
        "colab": {
          "base_uri": "https://localhost:8080/"
        },
        "outputId": "9f043f7b-dcc5-4f47-bd26-14776947422f"
      },
      "outputs": [
        {
          "output_type": "stream",
          "name": "stdout",
          "text": [
            "hello\n"
          ]
        }
      ],
      "source": [
        "print (\"hello\")"
      ]
    },
    {
      "cell_type": "markdown",
      "metadata": {
        "id": "D0cilOy9yeK7"
      },
      "source": [
        "## Loading the dataset"
      ]
    },
    {
      "cell_type": "code",
      "execution_count": 24,
      "metadata": {
        "id": "veW9EM12yd5M",
        "colab": {
          "base_uri": "https://localhost:8080/",
          "height": 226
        },
        "outputId": "670c6a3e-0c78-455c-e745-8e47e853cd75"
      },
      "outputs": [
        {
          "output_type": "execute_result",
          "data": {
            "text/plain": [
              "   ID  Age  Experience  Income  ZIPCode  Family  CCAvg  Education  Mortgage  \\\n",
              "0   1   25           1      49    91107       4    1.6          1         0   \n",
              "1   2   45          19      34    90089       3    1.5          1         0   \n",
              "2   3   39          15      11    94720       1    1.0          1         0   \n",
              "3   4   35           9     100    94112       1    2.7          2         0   \n",
              "4   5   35           8      45    91330       4    1.0          2         0   \n",
              "\n",
              "   Personal_Loan  Securities_Account  CD_Account  Online  CreditCard  \n",
              "0              0                   1           0       0           0  \n",
              "1              0                   1           0       0           0  \n",
              "2              0                   0           0       0           0  \n",
              "3              0                   0           0       0           0  \n",
              "4              0                   0           0       0           1  "
            ],
            "text/html": [
              "\n",
              "  <div id=\"df-e1e68ec4-f244-4204-9668-824ac3eb5f9f\" class=\"colab-df-container\">\n",
              "    <div>\n",
              "<style scoped>\n",
              "    .dataframe tbody tr th:only-of-type {\n",
              "        vertical-align: middle;\n",
              "    }\n",
              "\n",
              "    .dataframe tbody tr th {\n",
              "        vertical-align: top;\n",
              "    }\n",
              "\n",
              "    .dataframe thead th {\n",
              "        text-align: right;\n",
              "    }\n",
              "</style>\n",
              "<table border=\"1\" class=\"dataframe\">\n",
              "  <thead>\n",
              "    <tr style=\"text-align: right;\">\n",
              "      <th></th>\n",
              "      <th>ID</th>\n",
              "      <th>Age</th>\n",
              "      <th>Experience</th>\n",
              "      <th>Income</th>\n",
              "      <th>ZIPCode</th>\n",
              "      <th>Family</th>\n",
              "      <th>CCAvg</th>\n",
              "      <th>Education</th>\n",
              "      <th>Mortgage</th>\n",
              "      <th>Personal_Loan</th>\n",
              "      <th>Securities_Account</th>\n",
              "      <th>CD_Account</th>\n",
              "      <th>Online</th>\n",
              "      <th>CreditCard</th>\n",
              "    </tr>\n",
              "  </thead>\n",
              "  <tbody>\n",
              "    <tr>\n",
              "      <th>0</th>\n",
              "      <td>1</td>\n",
              "      <td>25</td>\n",
              "      <td>1</td>\n",
              "      <td>49</td>\n",
              "      <td>91107</td>\n",
              "      <td>4</td>\n",
              "      <td>1.6</td>\n",
              "      <td>1</td>\n",
              "      <td>0</td>\n",
              "      <td>0</td>\n",
              "      <td>1</td>\n",
              "      <td>0</td>\n",
              "      <td>0</td>\n",
              "      <td>0</td>\n",
              "    </tr>\n",
              "    <tr>\n",
              "      <th>1</th>\n",
              "      <td>2</td>\n",
              "      <td>45</td>\n",
              "      <td>19</td>\n",
              "      <td>34</td>\n",
              "      <td>90089</td>\n",
              "      <td>3</td>\n",
              "      <td>1.5</td>\n",
              "      <td>1</td>\n",
              "      <td>0</td>\n",
              "      <td>0</td>\n",
              "      <td>1</td>\n",
              "      <td>0</td>\n",
              "      <td>0</td>\n",
              "      <td>0</td>\n",
              "    </tr>\n",
              "    <tr>\n",
              "      <th>2</th>\n",
              "      <td>3</td>\n",
              "      <td>39</td>\n",
              "      <td>15</td>\n",
              "      <td>11</td>\n",
              "      <td>94720</td>\n",
              "      <td>1</td>\n",
              "      <td>1.0</td>\n",
              "      <td>1</td>\n",
              "      <td>0</td>\n",
              "      <td>0</td>\n",
              "      <td>0</td>\n",
              "      <td>0</td>\n",
              "      <td>0</td>\n",
              "      <td>0</td>\n",
              "    </tr>\n",
              "    <tr>\n",
              "      <th>3</th>\n",
              "      <td>4</td>\n",
              "      <td>35</td>\n",
              "      <td>9</td>\n",
              "      <td>100</td>\n",
              "      <td>94112</td>\n",
              "      <td>1</td>\n",
              "      <td>2.7</td>\n",
              "      <td>2</td>\n",
              "      <td>0</td>\n",
              "      <td>0</td>\n",
              "      <td>0</td>\n",
              "      <td>0</td>\n",
              "      <td>0</td>\n",
              "      <td>0</td>\n",
              "    </tr>\n",
              "    <tr>\n",
              "      <th>4</th>\n",
              "      <td>5</td>\n",
              "      <td>35</td>\n",
              "      <td>8</td>\n",
              "      <td>45</td>\n",
              "      <td>91330</td>\n",
              "      <td>4</td>\n",
              "      <td>1.0</td>\n",
              "      <td>2</td>\n",
              "      <td>0</td>\n",
              "      <td>0</td>\n",
              "      <td>0</td>\n",
              "      <td>0</td>\n",
              "      <td>0</td>\n",
              "      <td>1</td>\n",
              "    </tr>\n",
              "  </tbody>\n",
              "</table>\n",
              "</div>\n",
              "    <div class=\"colab-df-buttons\">\n",
              "\n",
              "  <div class=\"colab-df-container\">\n",
              "    <button class=\"colab-df-convert\" onclick=\"convertToInteractive('df-e1e68ec4-f244-4204-9668-824ac3eb5f9f')\"\n",
              "            title=\"Convert this dataframe to an interactive table.\"\n",
              "            style=\"display:none;\">\n",
              "\n",
              "  <svg xmlns=\"http://www.w3.org/2000/svg\" height=\"24px\" viewBox=\"0 -960 960 960\">\n",
              "    <path d=\"M120-120v-720h720v720H120Zm60-500h600v-160H180v160Zm220 220h160v-160H400v160Zm0 220h160v-160H400v160ZM180-400h160v-160H180v160Zm440 0h160v-160H620v160ZM180-180h160v-160H180v160Zm440 0h160v-160H620v160Z\"/>\n",
              "  </svg>\n",
              "    </button>\n",
              "\n",
              "  <style>\n",
              "    .colab-df-container {\n",
              "      display:flex;\n",
              "      gap: 12px;\n",
              "    }\n",
              "\n",
              "    .colab-df-convert {\n",
              "      background-color: #E8F0FE;\n",
              "      border: none;\n",
              "      border-radius: 50%;\n",
              "      cursor: pointer;\n",
              "      display: none;\n",
              "      fill: #1967D2;\n",
              "      height: 32px;\n",
              "      padding: 0 0 0 0;\n",
              "      width: 32px;\n",
              "    }\n",
              "\n",
              "    .colab-df-convert:hover {\n",
              "      background-color: #E2EBFA;\n",
              "      box-shadow: 0px 1px 2px rgba(60, 64, 67, 0.3), 0px 1px 3px 1px rgba(60, 64, 67, 0.15);\n",
              "      fill: #174EA6;\n",
              "    }\n",
              "\n",
              "    .colab-df-buttons div {\n",
              "      margin-bottom: 4px;\n",
              "    }\n",
              "\n",
              "    [theme=dark] .colab-df-convert {\n",
              "      background-color: #3B4455;\n",
              "      fill: #D2E3FC;\n",
              "    }\n",
              "\n",
              "    [theme=dark] .colab-df-convert:hover {\n",
              "      background-color: #434B5C;\n",
              "      box-shadow: 0px 1px 3px 1px rgba(0, 0, 0, 0.15);\n",
              "      filter: drop-shadow(0px 1px 2px rgba(0, 0, 0, 0.3));\n",
              "      fill: #FFFFFF;\n",
              "    }\n",
              "  </style>\n",
              "\n",
              "    <script>\n",
              "      const buttonEl =\n",
              "        document.querySelector('#df-e1e68ec4-f244-4204-9668-824ac3eb5f9f button.colab-df-convert');\n",
              "      buttonEl.style.display =\n",
              "        google.colab.kernel.accessAllowed ? 'block' : 'none';\n",
              "\n",
              "      async function convertToInteractive(key) {\n",
              "        const element = document.querySelector('#df-e1e68ec4-f244-4204-9668-824ac3eb5f9f');\n",
              "        const dataTable =\n",
              "          await google.colab.kernel.invokeFunction('convertToInteractive',\n",
              "                                                    [key], {});\n",
              "        if (!dataTable) return;\n",
              "\n",
              "        const docLinkHtml = 'Like what you see? Visit the ' +\n",
              "          '<a target=\"_blank\" href=https://colab.research.google.com/notebooks/data_table.ipynb>data table notebook</a>'\n",
              "          + ' to learn more about interactive tables.';\n",
              "        element.innerHTML = '';\n",
              "        dataTable['output_type'] = 'display_data';\n",
              "        await google.colab.output.renderOutput(dataTable, element);\n",
              "        const docLink = document.createElement('div');\n",
              "        docLink.innerHTML = docLinkHtml;\n",
              "        element.appendChild(docLink);\n",
              "      }\n",
              "    </script>\n",
              "  </div>\n",
              "\n",
              "\n",
              "    <div id=\"df-0a324b58-16a3-456f-81f3-da86ce75f296\">\n",
              "      <button class=\"colab-df-quickchart\" onclick=\"quickchart('df-0a324b58-16a3-456f-81f3-da86ce75f296')\"\n",
              "                title=\"Suggest charts\"\n",
              "                style=\"display:none;\">\n",
              "\n",
              "<svg xmlns=\"http://www.w3.org/2000/svg\" height=\"24px\"viewBox=\"0 0 24 24\"\n",
              "     width=\"24px\">\n",
              "    <g>\n",
              "        <path d=\"M19 3H5c-1.1 0-2 .9-2 2v14c0 1.1.9 2 2 2h14c1.1 0 2-.9 2-2V5c0-1.1-.9-2-2-2zM9 17H7v-7h2v7zm4 0h-2V7h2v10zm4 0h-2v-4h2v4z\"/>\n",
              "    </g>\n",
              "</svg>\n",
              "      </button>\n",
              "\n",
              "<style>\n",
              "  .colab-df-quickchart {\n",
              "      --bg-color: #E8F0FE;\n",
              "      --fill-color: #1967D2;\n",
              "      --hover-bg-color: #E2EBFA;\n",
              "      --hover-fill-color: #174EA6;\n",
              "      --disabled-fill-color: #AAA;\n",
              "      --disabled-bg-color: #DDD;\n",
              "  }\n",
              "\n",
              "  [theme=dark] .colab-df-quickchart {\n",
              "      --bg-color: #3B4455;\n",
              "      --fill-color: #D2E3FC;\n",
              "      --hover-bg-color: #434B5C;\n",
              "      --hover-fill-color: #FFFFFF;\n",
              "      --disabled-bg-color: #3B4455;\n",
              "      --disabled-fill-color: #666;\n",
              "  }\n",
              "\n",
              "  .colab-df-quickchart {\n",
              "    background-color: var(--bg-color);\n",
              "    border: none;\n",
              "    border-radius: 50%;\n",
              "    cursor: pointer;\n",
              "    display: none;\n",
              "    fill: var(--fill-color);\n",
              "    height: 32px;\n",
              "    padding: 0;\n",
              "    width: 32px;\n",
              "  }\n",
              "\n",
              "  .colab-df-quickchart:hover {\n",
              "    background-color: var(--hover-bg-color);\n",
              "    box-shadow: 0 1px 2px rgba(60, 64, 67, 0.3), 0 1px 3px 1px rgba(60, 64, 67, 0.15);\n",
              "    fill: var(--button-hover-fill-color);\n",
              "  }\n",
              "\n",
              "  .colab-df-quickchart-complete:disabled,\n",
              "  .colab-df-quickchart-complete:disabled:hover {\n",
              "    background-color: var(--disabled-bg-color);\n",
              "    fill: var(--disabled-fill-color);\n",
              "    box-shadow: none;\n",
              "  }\n",
              "\n",
              "  .colab-df-spinner {\n",
              "    border: 2px solid var(--fill-color);\n",
              "    border-color: transparent;\n",
              "    border-bottom-color: var(--fill-color);\n",
              "    animation:\n",
              "      spin 1s steps(1) infinite;\n",
              "  }\n",
              "\n",
              "  @keyframes spin {\n",
              "    0% {\n",
              "      border-color: transparent;\n",
              "      border-bottom-color: var(--fill-color);\n",
              "      border-left-color: var(--fill-color);\n",
              "    }\n",
              "    20% {\n",
              "      border-color: transparent;\n",
              "      border-left-color: var(--fill-color);\n",
              "      border-top-color: var(--fill-color);\n",
              "    }\n",
              "    30% {\n",
              "      border-color: transparent;\n",
              "      border-left-color: var(--fill-color);\n",
              "      border-top-color: var(--fill-color);\n",
              "      border-right-color: var(--fill-color);\n",
              "    }\n",
              "    40% {\n",
              "      border-color: transparent;\n",
              "      border-right-color: var(--fill-color);\n",
              "      border-top-color: var(--fill-color);\n",
              "    }\n",
              "    60% {\n",
              "      border-color: transparent;\n",
              "      border-right-color: var(--fill-color);\n",
              "    }\n",
              "    80% {\n",
              "      border-color: transparent;\n",
              "      border-right-color: var(--fill-color);\n",
              "      border-bottom-color: var(--fill-color);\n",
              "    }\n",
              "    90% {\n",
              "      border-color: transparent;\n",
              "      border-bottom-color: var(--fill-color);\n",
              "    }\n",
              "  }\n",
              "</style>\n",
              "\n",
              "      <script>\n",
              "        async function quickchart(key) {\n",
              "          const quickchartButtonEl =\n",
              "            document.querySelector('#' + key + ' button');\n",
              "          quickchartButtonEl.disabled = true;  // To prevent multiple clicks.\n",
              "          quickchartButtonEl.classList.add('colab-df-spinner');\n",
              "          try {\n",
              "            const charts = await google.colab.kernel.invokeFunction(\n",
              "                'suggestCharts', [key], {});\n",
              "          } catch (error) {\n",
              "            console.error('Error during call to suggestCharts:', error);\n",
              "          }\n",
              "          quickchartButtonEl.classList.remove('colab-df-spinner');\n",
              "          quickchartButtonEl.classList.add('colab-df-quickchart-complete');\n",
              "        }\n",
              "        (() => {\n",
              "          let quickchartButtonEl =\n",
              "            document.querySelector('#df-0a324b58-16a3-456f-81f3-da86ce75f296 button');\n",
              "          quickchartButtonEl.style.display =\n",
              "            google.colab.kernel.accessAllowed ? 'block' : 'none';\n",
              "        })();\n",
              "      </script>\n",
              "    </div>\n",
              "\n",
              "    </div>\n",
              "  </div>\n"
            ],
            "application/vnd.google.colaboratory.intrinsic+json": {
              "type": "dataframe",
              "variable_name": "bank_df",
              "summary": "{\n  \"name\": \"bank_df\",\n  \"rows\": 5000,\n  \"fields\": [\n    {\n      \"column\": \"ID\",\n      \"properties\": {\n        \"dtype\": \"number\",\n        \"std\": 1443,\n        \"min\": 1,\n        \"max\": 5000,\n        \"num_unique_values\": 5000,\n        \"samples\": [\n          1502,\n          2587,\n          2654\n        ],\n        \"semantic_type\": \"\",\n        \"description\": \"\"\n      }\n    },\n    {\n      \"column\": \"Age\",\n      \"properties\": {\n        \"dtype\": \"number\",\n        \"std\": 11,\n        \"min\": 23,\n        \"max\": 67,\n        \"num_unique_values\": 45,\n        \"samples\": [\n          24,\n          31,\n          51\n        ],\n        \"semantic_type\": \"\",\n        \"description\": \"\"\n      }\n    },\n    {\n      \"column\": \"Experience\",\n      \"properties\": {\n        \"dtype\": \"number\",\n        \"std\": 11,\n        \"min\": -3,\n        \"max\": 43,\n        \"num_unique_values\": 47,\n        \"samples\": [\n          12,\n          38,\n          7\n        ],\n        \"semantic_type\": \"\",\n        \"description\": \"\"\n      }\n    },\n    {\n      \"column\": \"Income\",\n      \"properties\": {\n        \"dtype\": \"number\",\n        \"std\": 46,\n        \"min\": 8,\n        \"max\": 224,\n        \"num_unique_values\": 162,\n        \"samples\": [\n          151,\n          75,\n          182\n        ],\n        \"semantic_type\": \"\",\n        \"description\": \"\"\n      }\n    },\n    {\n      \"column\": \"ZIPCode\",\n      \"properties\": {\n        \"dtype\": \"number\",\n        \"std\": 1759,\n        \"min\": 90005,\n        \"max\": 96651,\n        \"num_unique_values\": 467,\n        \"samples\": [\n          91335,\n          95134,\n          92672\n        ],\n        \"semantic_type\": \"\",\n        \"description\": \"\"\n      }\n    },\n    {\n      \"column\": \"Family\",\n      \"properties\": {\n        \"dtype\": \"number\",\n        \"std\": 1,\n        \"min\": 1,\n        \"max\": 4,\n        \"num_unique_values\": 4,\n        \"samples\": [\n          3,\n          2,\n          4\n        ],\n        \"semantic_type\": \"\",\n        \"description\": \"\"\n      }\n    },\n    {\n      \"column\": \"CCAvg\",\n      \"properties\": {\n        \"dtype\": \"number\",\n        \"std\": 1.7476589800467723,\n        \"min\": 0.0,\n        \"max\": 10.0,\n        \"num_unique_values\": 108,\n        \"samples\": [\n          3.4,\n          3.8,\n          0.4\n        ],\n        \"semantic_type\": \"\",\n        \"description\": \"\"\n      }\n    },\n    {\n      \"column\": \"Education\",\n      \"properties\": {\n        \"dtype\": \"number\",\n        \"std\": 0,\n        \"min\": 1,\n        \"max\": 3,\n        \"num_unique_values\": 3,\n        \"samples\": [\n          1,\n          2,\n          3\n        ],\n        \"semantic_type\": \"\",\n        \"description\": \"\"\n      }\n    },\n    {\n      \"column\": \"Mortgage\",\n      \"properties\": {\n        \"dtype\": \"number\",\n        \"std\": 101,\n        \"min\": 0,\n        \"max\": 635,\n        \"num_unique_values\": 347,\n        \"samples\": [\n          330,\n          314,\n          258\n        ],\n        \"semantic_type\": \"\",\n        \"description\": \"\"\n      }\n    },\n    {\n      \"column\": \"Personal_Loan\",\n      \"properties\": {\n        \"dtype\": \"number\",\n        \"std\": 0,\n        \"min\": 0,\n        \"max\": 1,\n        \"num_unique_values\": 2,\n        \"samples\": [\n          1,\n          0\n        ],\n        \"semantic_type\": \"\",\n        \"description\": \"\"\n      }\n    },\n    {\n      \"column\": \"Securities_Account\",\n      \"properties\": {\n        \"dtype\": \"number\",\n        \"std\": 0,\n        \"min\": 0,\n        \"max\": 1,\n        \"num_unique_values\": 2,\n        \"samples\": [\n          0,\n          1\n        ],\n        \"semantic_type\": \"\",\n        \"description\": \"\"\n      }\n    },\n    {\n      \"column\": \"CD_Account\",\n      \"properties\": {\n        \"dtype\": \"number\",\n        \"std\": 0,\n        \"min\": 0,\n        \"max\": 1,\n        \"num_unique_values\": 2,\n        \"samples\": [\n          1,\n          0\n        ],\n        \"semantic_type\": \"\",\n        \"description\": \"\"\n      }\n    },\n    {\n      \"column\": \"Online\",\n      \"properties\": {\n        \"dtype\": \"number\",\n        \"std\": 0,\n        \"min\": 0,\n        \"max\": 1,\n        \"num_unique_values\": 2,\n        \"samples\": [\n          1,\n          0\n        ],\n        \"semantic_type\": \"\",\n        \"description\": \"\"\n      }\n    },\n    {\n      \"column\": \"CreditCard\",\n      \"properties\": {\n        \"dtype\": \"number\",\n        \"std\": 0,\n        \"min\": 0,\n        \"max\": 1,\n        \"num_unique_values\": 2,\n        \"samples\": [\n          1,\n          0\n        ],\n        \"semantic_type\": \"\",\n        \"description\": \"\"\n      }\n    }\n  ]\n}"
            }
          },
          "metadata": {},
          "execution_count": 24
        }
      ],
      "source": [
        "import pandas as pd\n",
        "\n",
        "# Load the dataset using pandas\n",
        "bank_df = pd.read_csv('Loan_Modelling.csv')\n",
        "\n",
        "# Display the first few rows of the dataframe to verify\n",
        "bank_df.head()"
      ]
    },
    {
      "cell_type": "markdown",
      "source": [
        "**Observations**:\n",
        "\n",
        "**Data Structure**\n",
        "\n",
        "The data is structured in a tabular format with rows representing individual customers and columns representing different attributes or features.\n",
        "\n",
        "**Features**\n",
        "\n",
        "The dataset includes a variety of features related to customer demographics, financial status, and banking relationships, such as:\n",
        "\n",
        "1.  **ID:** A unique identifier for each customer.\n",
        "2.  **Age:** The customer's age in years.\n",
        "3.  **Experience:** The customer's professional experience in years.\n",
        "4.  **Income:** The customer's annual income (likely in thousands of dollars).\n",
        "5.  **ZIP Code:** The customer's home address ZIP code.\n",
        "6.  **Family:** The size of the customer's family.\n",
        "7.  **CCAvg:** The average monthly spending on credit cards (likely in thousands of dollars).\n",
        "8.  **Education:** The customer's education level (likely encoded as 1: Undergrad, 2: Graduate, 3: Advanced/Professional).\n",
        "9.  **Mortgage:** The value of the customer's house mortgage (likely in thousands of dollars).\n",
        "10. **Personal\\_Loan:** The target variable indicating whether the customer accepted a personal loan (0: No, 1: Yes).\n",
        "11. **Securities\\_Account:** Whether the customer has a securities account with the bank (0: No, 1: Yes).\n",
        "12. **CD\\_Account:** Whether the customer has a certificate of deposit (CD) account with the bank (0: No, 1: Yes).\n",
        "13. **Online:** Whether the customer uses internet banking facilities (0: No, 1: Yes).\n",
        "14. **CreditCard:** Whether the customer uses a credit card issued by any other bank (0: No, 1: Yes).\n",
        "\n",
        "**Data Types**\n",
        "\n",
        "The features seem to be a mix of numerical (Age, Experience, Income, CCAvg, Mortgage) and categorical (Education, Personal\\_Loan, Securities\\_Account, CD\\_Account, Online, CreditCard) data types. ZIP Code might be treated as categorical or numerical depending on the analysis.\n"
      ],
      "metadata": {
        "id": "g7tLlGnn30ca"
      }
    },
    {
      "cell_type": "markdown",
      "metadata": {
        "id": "vUbDMkrLQb8U"
      },
      "source": [
        "## Data Overview"
      ]
    },
    {
      "cell_type": "markdown",
      "metadata": {
        "id": "yPQbY4cIQaK4"
      },
      "source": [
        "* Observations\n",
        "* Sanity checks"
      ]
    },
    {
      "cell_type": "code",
      "execution_count": 25,
      "metadata": {
        "id": "EKrLdS4fZmpk",
        "colab": {
          "base_uri": "https://localhost:8080/"
        },
        "outputId": "6ba20275-1959-4d74-d21b-626728395241"
      },
      "outputs": [
        {
          "output_type": "stream",
          "name": "stdout",
          "text": [
            "Missing Values:\n",
            " ID                    0\n",
            "Age                   0\n",
            "Experience            0\n",
            "Income                0\n",
            "ZIPCode               0\n",
            "Family                0\n",
            "CCAvg                 0\n",
            "Education             0\n",
            "Mortgage              0\n",
            "Personal_Loan         0\n",
            "Securities_Account    0\n",
            "CD_Account            0\n",
            "Online                0\n",
            "CreditCard            0\n",
            "dtype: int64\n",
            "\n",
            "Duplicate Rows: 0\n",
            "\n",
            "Data Types:\n",
            " ID                      int64\n",
            "Age                     int64\n",
            "Experience              int64\n",
            "Income                  int64\n",
            "ZIPCode                 int64\n",
            "Family                  int64\n",
            "CCAvg                 float64\n",
            "Education               int64\n",
            "Mortgage                int64\n",
            "Personal_Loan           int64\n",
            "Securities_Account      int64\n",
            "CD_Account              int64\n",
            "Online                  int64\n",
            "CreditCard              int64\n",
            "dtype: object\n",
            "\n",
            "Unique values in Education: [1 2 3]\n",
            "\n",
            "Unique values in Personal_Loan: [0 1]\n",
            "\n",
            "Unique values in Securities_Account: [1 0]\n",
            "\n",
            "Unique values in CD_Account: [0 1]\n",
            "\n",
            "Unique values in Online: [0 1]\n",
            "\n",
            "Unique values in CreditCard: [0 1]\n",
            "\n",
            "Range of Age: (23, 67)\n",
            "\n",
            "Range of Experience: (-3, 43)\n",
            "\n",
            "Range of Income: (8, 224)\n",
            "\n",
            "Range of Family: (1, 4)\n",
            "\n",
            "Range of CCAvg: (0.0, 10.0)\n",
            "\n",
            "Range of Mortgage: (0, 635)\n",
            "\n",
            "Inconsistencies in Experience and Age: 0\n"
          ]
        }
      ],
      "source": [
        "# Check for missing values\n",
        "print(\"Missing Values:\\n\", bank_df.isnull().sum())\n",
        "\n",
        "# Check for duplicate rows\n",
        "print(\"\\nDuplicate Rows:\", bank_df.duplicated().sum())\n",
        "\n",
        "# Check data types of each column\n",
        "print(\"\\nData Types:\\n\", bank_df.dtypes)\n",
        "\n",
        "# Check for inconsistencies in categorical features\n",
        "categorical_features = ['Education', 'Personal_Loan', 'Securities_Account', 'CD_Account', 'Online', 'CreditCard']\n",
        "for feature in categorical_features:\n",
        "    print(f\"\\nUnique values in {feature}:\", bank_df[feature].unique())\n",
        "\n",
        "# Check the range of numerical features\n",
        "numerical_features = ['Age', 'Experience', 'Income', 'Family', 'CCAvg', 'Mortgage']\n",
        "for feature in numerical_features:\n",
        "    print(f\"\\nRange of {feature}: ({bank_df[feature].min()}, {bank_df[feature].max()})\")\n",
        "\n",
        "# Check for any other obvious inconsistencies\n",
        "# For example, check if Experience is always less than or equal to Age\n",
        "print(\"\\nInconsistencies in Experience and Age:\", bank_df[bank_df['Experience'] > bank_df['Age']].shape[0])"
      ]
    },
    {
      "cell_type": "markdown",
      "source": [
        "**Obeservation**: Based on the output we can see that there are no missing values, no duplicates. Also we can see the data types, unique values and range of the data in the output"
      ],
      "metadata": {
        "id": "13K2OWDS4psu"
      }
    },
    {
      "cell_type": "markdown",
      "metadata": {
        "id": "9KgxRHBOy6fn"
      },
      "source": [
        "## Exploratory Data Analysis."
      ]
    },
    {
      "cell_type": "markdown",
      "metadata": {
        "id": "5w7PtDMazCRh"
      },
      "source": [
        "- EDA is an important part of any project involving data.\n",
        "- It is important to investigate and understand the data better before building a model with it.\n",
        "- A few questions have been mentioned below which will help you approach the analysis in the right manner and generate insights from the data.\n",
        "- A thorough analysis of the data, in addition to the questions mentioned below, should be done."
      ]
    },
    {
      "cell_type": "markdown",
      "metadata": {
        "id": "CjVNBJWozGSA"
      },
      "source": [
        "**Questions**:\n",
        "\n",
        "1. What is the distribution of mortgage attribute? Are there any noticeable patterns or outliers in the distribution?\n",
        "2. How many customers have credit cards?\n",
        "3. What are the attributes that have a strong correlation with the target attribute (personal loan)?\n",
        "4. How does a customer's interest in purchasing a loan vary with their age?\n",
        "5. How does a customer's interest in purchasing a loan vary with their education?"
      ]
    },
    {
      "cell_type": "markdown",
      "source": [
        "**1. Distribution of Mortgage**"
      ],
      "metadata": {
        "id": "VwFkWHoK9MED"
      }
    },
    {
      "cell_type": "code",
      "execution_count": 26,
      "metadata": {
        "id": "KY7_qg7Cymt2",
        "colab": {
          "base_uri": "https://localhost:8080/",
          "height": 927
        },
        "outputId": "959e4979-dd22-442e-deae-5ec4f2759301"
      },
      "outputs": [
        {
          "output_type": "display_data",
          "data": {
            "text/plain": [
              "<Figure size 640x480 with 1 Axes>"
            ],
            "image/png": "[encoded data removed]"
          },
          "metadata": {}
        },
        {
          "output_type": "display_data",
          "data": {
            "text/plain": [
              "<Figure size 640x480 with 1 Axes>"
            ],
            "image/png": "[encoded data removed]"
          },
          "metadata": {}
        }
      ],
      "source": [
        "import seaborn as sns\n",
        "import matplotlib.pyplot as plt\n",
        "\n",
        "# Distribution of Mortgage\n",
        "sns.histplot(bank_df['Mortgage'], kde=True)\n",
        "plt.title('Distribution of Mortgage')\n",
        "plt.xlabel('Mortgage Value (in thousand dollars)')\n",
        "plt.ylabel('Frequency')\n",
        "plt.show()\n",
        "\n",
        "# Check for outliers using boxplot\n",
        "sns.scatterplot(x=bank_df.index, y=bank_df['Mortgage'])\n",
        "plt.title('Outliers in Mortgage')\n",
        "plt.xlabel('Index')\n",
        "plt.ylabel('Mortgage Value (in thousand dollars)')\n",
        "plt.show()"
      ]
    },
    {
      "cell_type": "markdown",
      "source": [
        "**2. Number of customers with credit cards**"
      ],
      "metadata": {
        "id": "41Dzj0wY95e_"
      }
    },
    {
      "cell_type": "code",
      "source": [
        "# Identify no of credit card users\n",
        "num_credit_card_customers = bank_df['CreditCard'].sum()\n",
        "print(\"Number of customers with credit cards:\", num_credit_card_customers)"
      ],
      "metadata": {
        "colab": {
          "base_uri": "https://localhost:8080/"
        },
        "id": "yuC9-f7i-BY0",
        "outputId": "94bdc463-6af4-49a6-adda-5300217a47fc"
      },
      "execution_count": 27,
      "outputs": [
        {
          "output_type": "stream",
          "name": "stdout",
          "text": [
            "Number of customers with credit cards: 1470\n"
          ]
        }
      ]
    },
    {
      "cell_type": "markdown",
      "source": [
        "**3. Attributes with Strong Correlation to Personal Loan**"
      ],
      "metadata": {
        "id": "ItqnfT4z-DXz"
      }
    },
    {
      "cell_type": "code",
      "source": [
        "# identify correlation with respect to personal loans\n",
        "correlation_matrix = bank_df.corr()\n",
        "personal_loan_correlation = correlation_matrix['Personal_Loan'].sort_values(ascending=False)\n",
        "\n",
        "print(\"Correlation with Personal Loan:\")\n",
        "for index, value in personal_loan_correlation.items():\n",
        "    print(f\"  {index:20}: {value:.6f}\")"
      ],
      "metadata": {
        "colab": {
          "base_uri": "https://localhost:8080/"
        },
        "id": "UsosUnhc-AEe",
        "outputId": "a3c2ce7c-53da-46dd-f24a-b138d594351b"
      },
      "execution_count": 28,
      "outputs": [
        {
          "output_type": "stream",
          "name": "stdout",
          "text": [
            "Correlation with Personal Loan:\n",
            "  Personal_Loan       : 1.000000\n",
            "  Income              : 0.502462\n",
            "  CCAvg               : 0.366889\n",
            "  CD_Account          : 0.316355\n",
            "  Mortgage            : 0.142095\n",
            "  Education           : 0.136722\n",
            "  Family              : 0.061367\n",
            "  Securities_Account  : 0.021954\n",
            "  Online              : 0.006278\n",
            "  CreditCard          : 0.002802\n",
            "  ZIPCode             : -0.002974\n",
            "  Experience          : -0.007413\n",
            "  Age                 : -0.007726\n",
            "  ID                  : -0.024801\n"
          ]
        }
      ]
    },
    {
      "cell_type": "markdown",
      "source": [
        "**4. Customer's Interest in Purchasing a Loan by Age:**"
      ],
      "metadata": {
        "id": "LpUAEVXx-_tx"
      }
    },
    {
      "cell_type": "code",
      "source": [
        "# Create a copy of bank_df to avoid modifying the original\n",
        "temp_df = bank_df.copy()\n",
        "\n",
        "# Create age bins (you can adjust the bins as needed)\n",
        "age_bins = [20, 30, 40, 50, 60, 70]\n",
        "age_labels = ['20-29', '30-39', '40-49', '50-59', '60-69']\n",
        "temp_df['Age_Group'] = pd.cut(temp_df['Age'], bins=age_bins, labels=age_labels, right=False)\n",
        "\n",
        "# Group data by age group and personal loan status\n",
        "grouped_data = temp_df.groupby(['Age_Group', 'Personal_Loan'], observed=False)['ID'].count().reset_index()\n",
        "\n",
        "# Pivot the data for stacked bar chart\n",
        "pivot_data = grouped_data.pivot(index='Age_Group', columns='Personal_Loan', values='ID')\n",
        "\n",
        "# Create the stacked bar chart\n",
        "pivot_data.plot(kind='bar', stacked=True, figsize=(8, 6), color=['skyblue', 'coral'])\n",
        "\n",
        "# Customize the chart\n",
        "plt.title('Personal Loan Interest by Age Group', fontsize=16)\n",
        "plt.xlabel('Age Group', fontsize=12)\n",
        "plt.ylabel('Number of Customers', fontsize=12)\n",
        "plt.xticks(rotation=0, fontsize=10)\n",
        "plt.yticks(fontsize=10)\n",
        "plt.legend(title='Personal Loan', labels=['No', 'Yes'], fontsize=10)\n",
        "plt.grid(axis='y', linestyle='--', alpha=0.7)\n",
        "\n",
        "plt.show()"
      ],
      "metadata": {
        "colab": {
          "base_uri": "https://localhost:8080/",
          "height": 561
        },
        "id": "pgn2jlJZ_HZS",
        "outputId": "c0b93524-6c7a-4b5d-f54f-73dfaf0d2f0f"
      },
      "execution_count": 29,
      "outputs": [
        {
          "output_type": "display_data",
          "data": {
            "text/plain": [
              "<Figure size 800x600 with 1 Axes>"
            ],
            "image/png": "[encoded data removed]"
          },
          "metadata": {}
        }
      ]
    },
    {
      "cell_type": "markdown",
      "source": [
        "**5. Customer's Interest in Purchasing a Loan by Education:**"
      ],
      "metadata": {
        "id": "uc4OIvmv_UZ1"
      }
    },
    {
      "cell_type": "code",
      "source": [
        "sns.countplot(x='Education', hue='Personal_Loan', data=bank_df)\n",
        "plt.title('Personal Loan Interest by Education')\n",
        "plt.xlabel('Education Level (1: Undergrad, 2: Graduate, 3: Advanced/Professional)')\n",
        "plt.ylabel('Count')\n",
        "plt.show()"
      ],
      "metadata": {
        "colab": {
          "base_uri": "https://localhost:8080/",
          "height": 472
        },
        "id": "ResW8uBc_ZUn",
        "outputId": "fab345fe-cb34-4654-a041-7f8f3b65f5fe"
      },
      "execution_count": 30,
      "outputs": [
        {
          "output_type": "display_data",
          "data": {
            "text/plain": [
              "<Figure size 640x480 with 1 Axes>"
            ],
            "image/png": "[encoded data removed]"
          },
          "metadata": {}
        }
      ]
    },
    {
      "cell_type": "markdown",
      "source": [
        "**Observations**:\n",
        "* The mortgage distribution the mortgage value is more in 100K-200K range.\n",
        "* The Number of customers with credit cards: 1470\n",
        "* The attributes with strong correlation with personal loan are income, ccavg, cd_account, mortgage, education and family.\n",
        "* We can see the interest in home loan purchase is more for customers in the age group 50-59\n",
        "* We can see people with advanced or professional degrees are more interested in personal loans"
      ],
      "metadata": {
        "id": "-aodcGHzEgRM"
      }
    },
    {
      "cell_type": "markdown",
      "metadata": {
        "id": "ZCM6avoA39FB"
      },
      "source": [
        "## Data Preprocessing"
      ]
    },
    {
      "cell_type": "markdown",
      "metadata": {
        "id": "GxmVZXfCfNnc"
      },
      "source": [
        "* Missing value treatment\n",
        "* Feature engineering (if needed)\n",
        "* Outlier detection and treatment (if needed)\n",
        "* Preparing data for modeling\n",
        "* Any other preprocessing steps (if needed)"
      ]
    },
    {
      "cell_type": "code",
      "execution_count": 62,
      "metadata": {
        "id": "q6D5tdDiymfd",
        "colab": {
          "base_uri": "https://localhost:8080/"
        },
        "outputId": "56e6fc24-298f-405d-fde4-3b954e1ea693"
      },
      "outputs": [
        {
          "output_type": "stream",
          "name": "stdout",
          "text": [
            "Missing Values:\n",
            " ID                    0\n",
            "Age                   0\n",
            "Experience            0\n",
            "Income                0\n",
            "ZIPCode               0\n",
            "Family                0\n",
            "CCAvg                 0\n",
            "Education             0\n",
            "Mortgage              0\n",
            "Personal_Loan         0\n",
            "Securities_Account    0\n",
            "CD_Account            0\n",
            "Online                0\n",
            "CreditCard            0\n",
            "Income_CCAvg_Ratio    0\n",
            "Loan_Prediction       0\n",
            "dtype: int64\n"
          ]
        }
      ],
      "source": [
        "import pandas as pd\n",
        "import numpy as np\n",
        "from sklearn.model_selection import train_test_split\n",
        "from sklearn.preprocessing import StandardScaler\n",
        "\n",
        "# Data Preprocessing Steps:\n",
        "# 1. Missing Value Treatment:\n",
        "# Check for missing values\n",
        "print(\"Missing Values:\\n\", bank_df.isnull().sum())\n",
        "\n",
        "# 2. Feature Engineering:\n",
        "bank_df['Income_CCAvg_Ratio'] = bank_df['Income'] / bank_df['CCAvg']\n",
        "\n",
        "# 3. Outlier Detection and Treatment:\n",
        "# Using box plots and scatter plots we have identified Mortgage column to have outliers.\n",
        "Q1 = bank_df['Mortgage'].quantile(0.25)\n",
        "Q3 = bank_df['Mortgage'].quantile(0.75)\n",
        "IQR = Q3 - Q1\n",
        "upper_bound = Q3 + 1.5 * IQR\n",
        "lower_bound = Q1 - 1.5 * IQR\n",
        "bank_df = bank_df[(bank_df['Mortgage'] >= lower_bound) & (bank_df['Mortgage'] <= upper_bound)]  # Remove outliers\n",
        "\n",
        "# 4. Preparing Data for Modeling:\n",
        "# a. Separate features (X) and target (y):\n",
        "X = bank_df.drop('Personal_Loan', axis=1)\n",
        "y = bank_df['Personal_Loan']\n",
        "\n",
        "# b. One-hot encoding for categorical features:\n",
        "X = pd.get_dummies(X, columns=['Education', 'Securities_Account', 'CD_Account', 'Online', 'CreditCard'], drop_first=True)\n",
        "\n",
        "# c. Split data into training and testing sets:\n",
        "X_train, X_test, y_train, y_test = train_test_split(X, y, test_size=0.2, random_state=42)\n",
        "\n",
        "# d. Handling infinite/too large values:\n",
        "X_train = X_train.replace([np.inf, -np.inf], np.nan)\n",
        "X_test = X_test.replace([np.inf, -np.inf], np.nan)  # Apply to X_test as well\n",
        "\n",
        "for column in X_train.columns[X_train.isnull().any()]:\n",
        "    X_train[column].fillna(X_train[column].mean())\n",
        "\n",
        "# Handle NaN values in X_test as well, using the mean from X_train\n",
        "for column in X_test.columns[X_test.isnull().any()]:\n",
        "    X_test[column].fillna(X_train[column].mean()) # Use X_train's mean for consistency\n",
        "\n",
        "feature_names = X_train.columns\n",
        "\n",
        "# e. Feature scaling (using StandardScaler):\n",
        "numerical_features = feature_names.intersection(X_train.select_dtypes(include=['number']).columns)\n",
        "scaler = StandardScaler()\n",
        "scaler.fit(X_train[numerical_features])\n",
        "X_train[numerical_features] = scaler.transform(X_train[numerical_features])\n",
        "X_test[numerical_features] = scaler.transform(X_test[numerical_features])\n"
      ]
    },
    {
      "cell_type": "markdown",
      "source": [
        "**Observations**:\n",
        "There are no missing values, the outliers in mortgage column has been identified and treated. Also feature scaling is done using Standard Scalar. Large values have been handled in both test and training data."
      ],
      "metadata": {
        "id": "l-nqg7pw0pIh"
      }
    },
    {
      "cell_type": "markdown",
      "metadata": {
        "id": "f4lwYN5bYmHp"
      },
      "source": [
        "## Model Building"
      ]
    },
    {
      "cell_type": "markdown",
      "metadata": {
        "id": "I8KXyX2cYnxg"
      },
      "source": [
        "### Model Evaluation Criterion"
      ]
    },
    {
      "cell_type": "markdown",
      "metadata": {
        "id": "s9-hADbhYrdc"
      },
      "source": [
        "Since it's a binary classification problem, we'll use the following metrics to evaluate the Decision Tree model:\n",
        "\n",
        "**F1-Score**: The primary metric to balance precision and recall. It's important to consider both because we want to minimize both false positives (wrongly targeting a customer for a loan) and false negatives (missing a potential loan customer).\n",
        "\n",
        "**Accuracy**: The proportion of correctly classified instances. Provides an overall measure of model performance.\n",
        "\n",
        "**Precision**: The proportion of correctly predicted positive instances out of all instances predicted as positive. Useful when the cost of false positives is high.\n",
        "\n",
        "**Recall (Sensitivity)**: The proportion of correctly predicted positive instances out of all actual positive instances. Useful when the cost of false negatives is high.\n",
        "\n",
        "Therefore, the evaluation criteria for the Decision Tree model for this problem statement are:\n",
        "\n",
        "Primary Metric: F1-Score\n",
        "Supporting Metrics: Accuracy, Precision, Recall\n"
      ]
    },
    {
      "cell_type": "markdown",
      "metadata": {
        "id": "n0zOSq9mieSG"
      },
      "source": [
        "### Model Building"
      ]
    },
    {
      "cell_type": "code",
      "execution_count": 50,
      "metadata": {
        "id": "N5-9mneBiVE8",
        "colab": {
          "base_uri": "https://localhost:8080/"
        },
        "outputId": "93e0bae5-259f-461e-ab4d-870a2a8c723c"
      },
      "outputs": [
        {
          "output_type": "stream",
          "name": "stdout",
          "text": [
            "Model Evaluation:\n",
            "  Accuracy: 0.9784\n",
            "  Precision: 0.8596\n",
            "  Recall: 0.8750\n",
            "  F1-Score: 0.8673\n",
            "  AUC: 0.9312\n"
          ]
        }
      ],
      "source": [
        "import pandas as pd\n",
        "from sklearn.model_selection import train_test_split\n",
        "from sklearn.tree import DecisionTreeClassifier\n",
        "from sklearn.metrics import accuracy_score, precision_score, recall_score, f1_score, roc_auc_score\n",
        "\n",
        "# 1. Create a Decision Tree Classifier object\n",
        "model = DecisionTreeClassifier(random_state=42)  # You can adjust hyperparameters here\n",
        "\n",
        "# 2. Train the model on the training data\n",
        "model.fit(X_train, y_train)\n",
        "\n",
        "# 3. Make predictions on the testing data\n",
        "y_pred = model.predict(X_test)\n",
        "\n",
        "# 4. Evaluate the model using the defined criteria\n",
        "accuracy = accuracy_score(y_test, y_pred)\n",
        "precision = precision_score(y_test, y_pred)\n",
        "recall = recall_score(y_test, y_pred)\n",
        "f1 = f1_score(y_test, y_pred)\n",
        "auc = roc_auc_score(y_test, y_pred)\n",
        "\n",
        "# 5. Print the evaluation metrics\n",
        "print(\"Model Evaluation:\")\n",
        "print(f\"  Accuracy: {accuracy:.4f}\")\n",
        "print(f\"  Precision: {precision:.4f}\")\n",
        "print(f\"  Recall: {recall:.4f}\")\n",
        "print(f\"  F1-Score: {f1:.4f}\")\n",
        "print(f\"  AUC: {auc:.4f}\")"
      ]
    },
    {
      "cell_type": "markdown",
      "source": [
        "* Create Model: We create a DecisionTreeClassifier object. You can adjust hyperparameters like max_depth, min_samples_split, etc., to tune the model.\n",
        "* Train Model: We train the model using the fit method with the training data (X_train, y_train).\n",
        "* Make Predictions: We use the trained model to make predictions on the testing data (X_test) using the predict method.\n",
        "* Evaluate Model: We calculate the evaluation metrics (accuracy, precision, recall, F1-score, AUC) using the predicted values (y_pred) and the actual values (y_test).\n",
        "* Print Results: We print the calculated metrics to assess the model's performance.\n"
      ],
      "metadata": {
        "id": "Oixz50EhWgan"
      }
    },
    {
      "cell_type": "markdown",
      "metadata": {
        "id": "tOOFfQIWh3_G"
      },
      "source": [
        "## Model Performance Improvement"
      ]
    },
    {
      "cell_type": "code",
      "execution_count": 55,
      "metadata": {
        "id": "D4H3HH5zh4dG",
        "colab": {
          "base_uri": "https://localhost:8080/"
        },
        "outputId": "017a400e-92cb-40d4-b4db-c1672b62fdf2"
      },
      "outputs": [
        {
          "output_type": "stream",
          "name": "stdout",
          "text": [
            "Best Model Evaluation:\n",
            "  Accuracy: 0.9856\n",
            "  Precision: 1.0000\n",
            "  Recall: 0.8214\n",
            "  F1-Score: 0.9020\n",
            "  AUC: 0.9107\n",
            "\n",
            "Best Hyperparameters: {'criterion': 'entropy', 'max_depth': 5, 'min_samples_leaf': 1, 'min_samples_split': 2}\n"
          ]
        }
      ],
      "source": [
        "import pandas as pd\n",
        "from sklearn.model_selection import train_test_split, GridSearchCV\n",
        "from sklearn.tree import DecisionTreeClassifier\n",
        "from sklearn.metrics import accuracy_score, precision_score, recall_score, f1_score, roc_auc_score\n",
        "\n",
        "# 1. Define the hyperparameter grid\n",
        "param_grid = {\n",
        "    'criterion': ['gini', 'entropy'],\n",
        "    'max_depth': [None, 5, 10, 15, 20],\n",
        "    'min_samples_split': [2, 5, 10],\n",
        "    'min_samples_leaf': [1, 2, 4]\n",
        "}\n",
        "\n",
        "# 2. Create a Decision Tree Classifier object\n",
        "model = DecisionTreeClassifier(random_state=42)\n",
        "\n",
        "# 3. Create a GridSearchCV object\n",
        "grid_search = GridSearchCV(estimator=model, param_grid=param_grid, scoring='f1', cv=5)  # Use F1-score for scoring\n",
        "\n",
        "# 4. Fit the grid search to the training data\n",
        "grid_search.fit(X_train, y_train)\n",
        "\n",
        "# 5. Get the best model\n",
        "best_model = grid_search.best_estimator_\n",
        "\n",
        "# 6. Make predictions on the testing data using the best model\n",
        "y_pred = best_model.predict(X_test)\n",
        "\n",
        "# 7. Evaluate the best model\n",
        "accuracy = accuracy_score(y_test, y_pred)\n",
        "precision = precision_score(y_test, y_pred)\n",
        "recall = recall_score(y_test, y_pred)\n",
        "f1 = f1_score(y_test, y_pred)\n",
        "auc = roc_auc_score(y_test, y_pred)\n",
        "\n",
        "# 8. Print the evaluation metrics\n",
        "print(\"Best Model Evaluation:\")\n",
        "print(f\"  Accuracy: {accuracy:.4f}\")\n",
        "print(f\"  Precision: {precision:.4f}\")\n",
        "print(f\"  Recall: {recall:.4f}\")\n",
        "print(f\"  F1-Score: {f1:.4f}\")\n",
        "print(f\"  AUC: {auc:.4f}\")\n",
        "\n",
        "# Print the best hyperparameters:\n",
        "print(\"\\nBest Hyperparameters:\", grid_search.best_params_)"
      ]
    },
    {
      "cell_type": "markdown",
      "source": [
        "1. **Hyperparameter Tuning with Grid Search**:\n",
        "\n",
        "* We define a param_grid dictionary containing the hyperparameters to be tuned and their possible values.\n",
        "* We use GridSearchCV to exhaustively search through the hyperparameter combinations and find the best set of hyperparameters that maximizes the F1-score using cross-validation (cv=5).\n",
        "\n",
        "2. **Using F1-Score for Scoring**:\n",
        "\n",
        "* We specify scoring='f1' in GridSearchCV to use the F1-score as the evaluation metric for selecting the best model.\n",
        "\n",
        "3. **Getting the Best Model**:\n",
        "\n",
        "* After fitting the grid search, we access the best model using grid_search.best_estimator_.\n",
        "\n",
        "4. **Evaluation and Printing**:\n",
        "\n",
        "* We evaluate the best model using the same metrics as before and print the results, including the best hyperparameters."
      ],
      "metadata": {
        "id": "DHVScg48Yr_r"
      }
    },
    {
      "cell_type": "markdown",
      "metadata": {
        "id": "36XMQ7JKjFyx"
      },
      "source": [
        "## Model Performance Comparison and Final Model Selection"
      ]
    },
    {
      "cell_type": "code",
      "execution_count": 58,
      "metadata": {
        "id": "jvq640U7kWZF",
        "colab": {
          "base_uri": "https://localhost:8080/"
        },
        "outputId": "332f5029-040d-4f12-a3df-6992b4419abd"
      },
      "outputs": [
        {
          "output_type": "stream",
          "name": "stdout",
          "text": [
            "Best Model Evaluation:\n",
            "  Accuracy: 0.9856\n",
            "  Precision: 1.0000\n",
            "  Recall: 0.8214\n",
            "  F1-Score: 0.9020\n",
            "  AUC: 0.9107\n",
            "\n",
            "Best Hyperparameters: {'criterion': 'entropy', 'max_depth': 5, 'min_samples_leaf': 1, 'min_samples_split': 2}\n",
            "\n",
            "Logistic Regression Evaluation:\n",
            "  Accuracy: 0.9567\n",
            "  Precision: 0.8421\n",
            "  Recall: 0.5714\n",
            "  F1-Score: 0.6809\n",
            "  AUC: 0.7810\n",
            "\n",
            "Decision Tree selected as the final model.\n"
          ]
        }
      ],
      "source": [
        "import pandas as pd\n",
        "from sklearn.model_selection import train_test_split, GridSearchCV\n",
        "from sklearn.tree import DecisionTreeClassifier\n",
        "from sklearn.linear_model import LogisticRegression\n",
        "from sklearn.metrics import accuracy_score, precision_score, recall_score, f1_score, roc_auc_score\n",
        "\n",
        "\n",
        "# --- Decision Tree with GridSearchCV ---\n",
        "\n",
        "# 1. Define the hyperparameter grid\n",
        "param_grid = {\n",
        "    'criterion': ['gini', 'entropy'],\n",
        "    'max_depth': [None, 5, 10, 15, 20],\n",
        "    'min_samples_split': [2, 5, 10],\n",
        "    'min_samples_leaf': [1, 2, 4]\n",
        "}\n",
        "\n",
        "# 2. Create a Decision Tree Classifier object\n",
        "model = DecisionTreeClassifier(random_state=42)\n",
        "\n",
        "# 3. Create a GridSearchCV object\n",
        "grid_search = GridSearchCV(estimator=model, param_grid=param_grid, scoring='f1', cv=5)\n",
        "\n",
        "# 4. Fit the grid search to the training data\n",
        "grid_search.fit(X_train, y_train)\n",
        "\n",
        "# 5. Get the best model\n",
        "best_model = grid_search.best_estimator_\n",
        "\n",
        "# 6. Make predictions on the testing data using the best model\n",
        "y_pred = best_model.predict(X_test)\n",
        "\n",
        "# 7. Evaluate the best model\n",
        "accuracy = accuracy_score(y_test, y_pred)\n",
        "precision = precision_score(y_test, y_pred)\n",
        "recall = recall_score(y_test, y_pred)\n",
        "f1 = f1_score(y_test, y_pred)\n",
        "auc = roc_auc_score(y_test, y_pred)\n",
        "\n",
        "# 8. Print the evaluation metrics\n",
        "print(\"Best Model Evaluation:\")\n",
        "print(f\"  Accuracy: {accuracy:.4f}\")\n",
        "print(f\"  Precision: {precision:.4f}\")\n",
        "print(f\"  Recall: {recall:.4f}\")\n",
        "print(f\"  F1-Score: {f1:.4f}\")\n",
        "print(f\"  AUC: {auc:.4f}\")\n",
        "\n",
        "# Print the best hyperparameters\n",
        "print(\"\\nBest Hyperparameters:\", grid_search.best_params_)\n",
        "\n",
        "# --- Logistic Regression ---\n",
        "\n",
        "# 1. Create a Logistic Regression object\n",
        "logreg_model = LogisticRegression(random_state=42)\n",
        "\n",
        "# 2. Train the Logistic Regression model\n",
        "logreg_model.fit(X_train, y_train)\n",
        "\n",
        "# 3. Make predictions\n",
        "logreg_y_pred = logreg_model.predict(X_test)\n",
        "\n",
        "# 4. Evaluate the Logistic Regression model\n",
        "logreg_accuracy = accuracy_score(y_test, logreg_y_pred)\n",
        "logreg_precision = precision_score(y_test, logreg_y_pred)\n",
        "logreg_recall = recall_score(y_test, logreg_y_pred)\n",
        "logreg_f1 = f1_score(y_test, logreg_y_pred)\n",
        "logreg_auc = roc_auc_score(y_test, logreg_y_pred)\n",
        "\n",
        "# 5. Print Logistic Regression evaluation metrics\n",
        "print(\"\\nLogistic Regression Evaluation:\")\n",
        "print(f\"  Accuracy: {logreg_accuracy:.4f}\")\n",
        "print(f\"  Precision: {logreg_precision:.4f}\")\n",
        "print(f\"  Recall: {logreg_recall:.4f}\")\n",
        "print(f\"  F1-Score: {logreg_f1:.4f}\")\n",
        "print(f\"  AUC: {logreg_auc:.4f}\")\n",
        "\n",
        "# --- Model Comparison and Selection ---\n",
        "\n",
        "# Compare F1-scores and select the best model\n",
        "if grid_search.best_score_ > logreg_f1:  # Access best_score_ from grid_search\n",
        "    final_model = best_model\n",
        "    print(\"\\nDecision Tree selected as the final model.\")\n",
        "else:\n",
        "    final_model = logreg_model\n",
        "    print(\"\\nLogistic Regression selected as the final model.\")\n"
      ]
    },
    {
      "cell_type": "markdown",
      "source": [
        "1. **Import Logistic Regression**: We import LogisticRegression from sklearn.linear_model.\n",
        "2. **Create and Train Logistic Regression Model**: We create a LogisticRegression object and train it using the training data. You can add hyperparameter tuning for Logistic Regression if needed.\n",
        "3. **Evaluate Logistic Regression**: We calculate the same evaluation metrics for the Logistic Regression model.\n",
        "4. **Model Comparison**: We compare the F1-scores of the best Decision Tree model (from GridSearchCV) and the Logistic Regression model.\n",
        "5. **Final Model Selection**: We assign the model with the higher F1-score to the final_model variable.\n"
      ],
      "metadata": {
        "id": "7Pjl2n7-ZqJa"
      }
    },
    {
      "cell_type": "markdown",
      "metadata": {
        "id": "vb-iuMZQkcDL"
      },
      "source": [
        "## Actionable Insights and Business Recommendations\n"
      ]
    },
    {
      "cell_type": "code",
      "source": [
        "import pandas as pd\n",
        "import numpy as np\n",
        "from sklearn.model_selection import train_test_split, GridSearchCV\n",
        "from sklearn.tree import DecisionTreeClassifier\n",
        "from sklearn.linear_model import LogisticRegression\n",
        "from sklearn.preprocessing import StandardScaler\n",
        "from sklearn.feature_selection import SelectKBest, f_classif\n",
        "from sklearn.metrics import accuracy_score, precision_score, recall_score, f1_score, roc_auc_score\n",
        "\n",
        "# --- Decision Tree with GridSearchCV ---\n",
        "param_grid = {\n",
        "    'criterion': ['gini', 'entropy'],\n",
        "    'max_depth': [None, 5, 10, 15, 20],\n",
        "    'min_samples_split': [2, 5, 10],\n",
        "    'min_samples_leaf': [1, 2, 4]\n",
        "}\n",
        "\n",
        "model = DecisionTreeClassifier(random_state=42)\n",
        "grid_search = GridSearchCV(estimator=model, param_grid=param_grid, scoring='f1', cv=5)\n",
        "grid_search.fit(X_train, y_train)\n",
        "final_model = grid_search.best_estimator_\n",
        "\n",
        "# Remove large values from the Entire dataset\n",
        "X = X[feature_names].replace([np.inf, -np.inf], np.nan)\n",
        "\n",
        "# Fill NaN values\n",
        "for column in X.columns[X.isnull().any()]:\n",
        "     X[column] = X[column].fillna(X[column].mean())\n",
        "\n",
        "# --- Make Predictions on the Entire Dataset ---\n",
        "all_predictions = final_model.predict(X) # Use the entire dataset (X)\n",
        "\n",
        "# --- Add Predictions to the DataFrame ---\n",
        "bank_df['Loan_Prediction'] = all_predictions\n",
        "\n",
        "# --- Business Recommendations ---\n",
        "\n",
        "# 1. Target Customers with High Loan Probability:\n",
        "high_prob_customers = bank_df[bank_df['Loan_Prediction'] == 1]\n",
        "print(\"\\nNumber of customers with high probability of taking a loan:\", len(high_prob_customers))\n",
        "# ... (Further analysis and recommendations based on high_prob_customers) ...\n",
        "\n",
        "# 2. Analyze Feature Importance:\n",
        "feature_importances = final_model.feature_importances_\n",
        "feature_names = X_train.columns\n",
        "feature_importance_df = pd.DataFrame({'Feature': feature_names, 'Importance': feature_importances})\n",
        "feature_importance_df = feature_importance_df.sort_values(by='Importance', ascending=False)\n",
        "print(\"\\nFeature Importance:\\n\", feature_importance_df)\n"
      ],
      "metadata": {
        "colab": {
          "base_uri": "https://localhost:8080/"
        },
        "id": "VskHMteScQgi",
        "outputId": "f6a902f6-3567-40ed-d89a-066e03d87045"
      },
      "execution_count": 63,
      "outputs": [
        {
          "output_type": "stream",
          "name": "stdout",
          "text": [
            "\n",
            "Number of customers with high probability of taking a loan: 3462\n",
            "\n",
            "Feature Importance:\n",
            "                  Feature  Importance\n",
            "3                 Income    0.522622\n",
            "10           Education_2    0.147231\n",
            "5                 Family    0.108268\n",
            "6                  CCAvg    0.088124\n",
            "11           Education_3    0.086441\n",
            "8     Income_CCAvg_Ratio    0.028360\n",
            "1                    Age    0.012439\n",
            "13          CD_Account_1    0.006514\n",
            "7               Mortgage    0.000000\n",
            "4                ZIPCode    0.000000\n",
            "0                     ID    0.000000\n",
            "2             Experience    0.000000\n",
            "9        Loan_Prediction    0.000000\n",
            "12  Securities_Account_1    0.000000\n",
            "14              Online_1    0.000000\n",
            "15          CreditCard_1    0.000000\n"
          ]
        }
      ]
    },
    {
      "cell_type": "markdown",
      "metadata": {
        "id": "H_-eZCetiDXK"
      },
      "source": [
        "* What recommedations would you suggest to the bank?"
      ]
    },
    {
      "cell_type": "markdown",
      "source": [
        "Key Insights from the Output:\n",
        "\n",
        "**High-Probability Customers**: The model identified 4709 customers with a high probability of taking a personal loan. This is a significant number and represents a potential target group for marketing campaigns and loan offers.\n",
        "\n",
        "**Feature Importance**:\n",
        "\n",
        "**Income**: Is the most important feature, indicating that customers with higher incomes are more likely to be interested in personal loans.\n",
        "\n",
        "**Education_2 (Graduate)**: Is the second most important feature, suggesting that customers with a graduate-level education are also more likely to consider loans.\n",
        "\n",
        "**CCAvg (Average Credit Card Spending)**: Is the third most important feature, implying that customers with higher credit card spending might be more receptive to loan offers.\n",
        "\n",
        "**Family Size**: Plays a role, suggesting that family size influences loan purchase decisions.\n",
        "\n",
        "**Education_3 (Advanced/Professional)**: Customers with advanced or professional degrees also show a higher likelihood of taking loans.\n",
        "\n",
        "**Recommendations for the Bank**:\n",
        "\n",
        "**1. Targeted Marketing**:\n",
        "\n",
        "**Income-Based Targeting**: Focus marketing efforts on customers with higher incomes, as they are the most likely to purchase personal loans. Consider offering personalized loan options and benefits based on income levels.\n",
        "\n",
        "**Education-Based Targeting**: Target customers with graduate and advanced/professional degrees with tailored loan products and marketing messages that resonate with their educational background.\n",
        "\n",
        "**Credit Card Spending**: Develop strategies to identify and target customers with higher credit card spending. These customers might be more open to taking loans to manage their finances or consolidate debt.\n",
        "\n",
        "**Family-Focused Offers**: Consider offering loan products or promotions that cater to the needs of families, such as loans for education, home improvements, or debt consolidation.\n",
        "\n",
        "**2. Product Development**:\n",
        "\n",
        "**Premium Loan Products**: Design premium loan products with attractive interest rates and benefits for high-income customers.\n",
        "\n",
        "**Education-Specific Loans**: Offer specialized loan products tailored to the needs of graduate and advanced/professional degree holders, such as loans for continuing education or professional development.\n",
        "\n",
        "**Debt Consolidation Loans**: Promote debt consolidation loans to customers with higher credit card spending to help them manage their debt and potentially reduce interest payments.\n",
        "\n",
        "**Family-Oriented Loan Packages**: Develop loan packages that address the financial needs of families, such as loans for education expenses or home renovations.\n",
        "\n",
        "**3. Risk Assessment and Pricing**:\n",
        "\n",
        "While the model focuses on predicting loan purchase probability, the bank should also consider risk assessment and pricing strategies.\n",
        "\n",
        "Income and credit card spending can be used as indicators of creditworthiness, but other factors like credit history and debt-to-income ratio should also be taken into account.\n",
        "\n",
        "Adjust loan interest rates and terms based on the risk profile of each customer segment to balance profitability and risk mitigation.\n",
        "\n",
        "*By implementing these recommendations, the bank can effectively target potential loan customers, increase loan business, and enhance customer satisfaction.*\n",
        ""
      ],
      "metadata": {
        "id": "sKBCfvvglm-e"
      }
    },
    {
      "cell_type": "markdown",
      "metadata": {
        "id": "vX7N2zFwS1nV"
      },
      "source": [
        "___"
      ]
    }
  ],
  "metadata": {
    "colab": {
      "collapsed_sections": [
        "dHp26RRERvXx"
      ],
      "provenance": []
    },
    "kernelspec": {
      "display_name": "Python 3",
      "language": "python",
      "name": "python3"
    },
    "language_info": {
      "codemirror_mode": {
        "name": "ipython",
        "version": 3
      },
      "file_extension": ".py",
      "mimetype": "text/x-python",
      "name": "python",
      "nbconvert_exporter": "python",
      "pygments_lexer": "ipython3",
      "version": "3.8.8"
    }
  },
  "nbformat": 4,
  "nbformat_minor": 0
}